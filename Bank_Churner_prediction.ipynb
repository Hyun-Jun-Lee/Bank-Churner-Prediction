{
  "nbformat": 4,
  "nbformat_minor": 0,
  "metadata": {
    "colab": {
      "name": "Bank Churner prediction.ipynb",
      "private_outputs": true,
      "provenance": [],
      "collapsed_sections": [],
      "include_colab_link": true
    },
    "kernelspec": {
      "name": "python3",
      "display_name": "Python 3"
    },
    "language_info": {
      "name": "python"
    },
    "accelerator": "GPU"
  },
  "cells": [
    {
      "cell_type": "markdown",
      "metadata": {
        "id": "view-in-github",
        "colab_type": "text"
      },
      "source": [
        "<a href=\"https://colab.research.google.com/github/Hyun-Jun-Lee/Bank-Churner-Prediction/blob/master/Bank_Churner_prediction.ipynb\" target=\"_parent\"><img src=\"https://colab.research.google.com/assets/colab-badge.svg\" alt=\"Open In Colab\"/></a>"
      ]
    },
    {
      "cell_type": "markdown",
      "metadata": {
        "id": "7zCQW_r3-uXL"
      },
      "source": [
        "# 1. 데이터 불러오기 및 EDA\n"
      ]
    },
    {
      "cell_type": "code",
      "metadata": {
        "id": "qbglN9RhW6kz"
      },
      "source": [
        "from google.colab import drive \n",
        "\n",
        "drive.mount('/content/gdrive/')"
      ],
      "execution_count": null,
      "outputs": []
    },
    {
      "cell_type": "code",
      "metadata": {
        "id": "qAnCnZYPC6VO"
      },
      "source": [
        "ls"
      ],
      "execution_count": null,
      "outputs": []
    },
    {
      "cell_type": "markdown",
      "metadata": {
        "id": "l1UBsAV0--Jo"
      },
      "source": [
        "라이브러리 모음"
      ]
    },
    {
      "cell_type": "code",
      "metadata": {
        "id": "e8lrmq7jBQ-l"
      },
      "source": [
        "\n",
        "import sys\n",
        "\n",
        "if 'google.colab' in sys.modules:\n",
        "    # Install packages in Colab\n",
        "    !pip install -U pandas-profiling"
      ],
      "execution_count": null,
      "outputs": []
    },
    {
      "cell_type": "code",
      "metadata": {
        "id": "v_NDHG-U-nH8"
      },
      "source": [
        "import pandas as pd\n",
        "import numpy as np\n",
        "import pandas_profiling\n",
        "import matplotlib.pyplot as plt\n",
        "import seaborn as sns\n",
        "import plotly.express as px\n",
        "import plotly.graph_objs as go\n",
        "import plotly.figure_factory as ff\n",
        "from plotly.subplots import make_subplots\n",
        "from sklearn.model_selection import train_test_split, RandomizedSearchCV,cross_val_score\n",
        "from sklearn.pipeline import make_pipeline, Pipeline\n",
        "from xgboost import XGBClassifier\n",
        "from sklearn.impute import SimpleImputer\n",
        "from scipy.stats import uniform, randint\n",
        "from sklearn.metrics import auc, accuracy_score, confusion_matrix, roc_auc_score, classification_report,f1_score as f1\n",
        "from sklearn.preprocessing import StandardScaler\n",
        "from sklearn.ensemble import RandomForestClassifier, AdaBoostClassifier\n",
        "from lightgbm import LGBMClassifier\n",
        "from imblearn.over_sampling import SMOTE\n",
        "from sklearn.svm import SVC\n",
        "from sklearn import metrics"
      ],
      "execution_count": null,
      "outputs": []
    },
    {
      "cell_type": "code",
      "metadata": {
        "id": "NKoeAhOj_GB5"
      },
      "source": [
        "data = pd.read_csv('/content/gdrive/MyDrive/BankChurners.csv')\n",
        "data.head()"
      ],
      "execution_count": null,
      "outputs": []
    },
    {
      "cell_type": "code",
      "metadata": {
        "id": "fO8EBZKjAtCW"
      },
      "source": [
        "pr = data.profile_report()\n",
        "pr"
      ],
      "execution_count": null,
      "outputs": []
    },
    {
      "cell_type": "markdown",
      "metadata": {
        "id": "-9Q69yjrAus4"
      },
      "source": [
        "### 변수 설명\n",
        "\n",
        "- CLIENTNUM : 고객 번호. 계정을 보유한 고객의 고유 식별자\n",
        "- **Attrition_Flag(Target) : 고객 이탈 여부, 1 - Churner/ 0 - non Churner**\n",
        "- Customer_Age : 고객의 나이\n",
        "- Gender : 성별, M=Male, F=Female\n",
        "- Dependent_count : 부양가족수\n",
        "- Education_Level : 고객의 학력\n",
        "- Marital_Status : Married, Single, Divorced, Unknown\n",
        "- Income_Category : 연간 소득 (< 40K, 40K - 60K, 60K - 80K, 80K-120K, >)\n",
        "- Card_Category : 카드 등급 (Blue, Silver, Gold, Platinum)\n",
        "- Months_on_book : 은행과 거래 기간\n",
        "- Total_Relationship_Count : 고객이 보유한 총 상품 수\n",
        "- Months_Inactive_12_mon : 최근 12개월 동안 비활성 개월 수\n",
        "- Contacts_Count_12_mon : 최근 12개월 동안 연락한 횟수\n",
        "- Credit_Limit : 신용 한도\n",
        "- Total_Revolving_Bal : 총 리볼빙(일부결제금액이월약정) 잔액\n",
        "- Avg_Open_To_Buy : Open to Buy Credit Line (Average of last 12 months)\n",
        "- Total_Amt_Chng_Q4_Q1 : 거래 금액의 변화 (1분기 대비 4분기)\n",
        "- Total_Trans_Amt : 최근 12개월 총 거래 금액\n",
        "- Total_Trans_Ct : 최근 12개월 총 거래 횟 수\n",
        "- Total_Ct_Chng_Q4_Q1 : Change in Transaction Count (Q4 over Q1)\n",
        "- Avg_Utilization_Ratio : 평균 카드 사용률"
      ]
    },
    {
      "cell_type": "markdown",
      "metadata": {
        "id": "UkjNz9TDEb_6"
      },
      "source": [
        "### EDA"
      ]
    },
    {
      "cell_type": "code",
      "metadata": {
        "id": "ye_cVHAYRVhm"
      },
      "source": [
        "# Customer_Age 분포\n",
        "\n",
        "# 그래프 영역 나누기\n",
        "f = make_subplots(rows=2, cols=1) \n",
        "\n",
        "# boxplot과 histogram 그래프 x,y축 지정, boxmean=평균값표시\n",
        "t1 = go.Box(x=data['Customer_Age'], name='Box Plot for Customer_age', boxmean=True)\n",
        "t2 = go.Histogram(x=data['Customer_Age'], name='Histogram Customer_age')\n",
        "\n",
        "# plotly에서는 add_trace() 함수로 지정\n",
        "f.add_trace(t1, row=1, col=1) \n",
        "f.add_trace(t2, row=2, col=1)\n",
        "\n",
        "f.update_layout(height=600, width=1000, title_text = 'Customer_Age')"
      ],
      "execution_count": null,
      "outputs": []
    },
    {
      "cell_type": "markdown",
      "metadata": {
        "id": "sEykoBRwYasr"
      },
      "source": [
        "Customer_Age는 정규분포 <br>\n",
        "아직 경제활동을 하고있지 않는 70세 이상의 초고령층의 데이터가 필요할까?"
      ]
    },
    {
      "cell_type": "code",
      "metadata": {
        "id": "TaS9tuHUYwWp"
      },
      "source": [
        "data.sort_values(by='Customer_Age', ascending=True)"
      ],
      "execution_count": null,
      "outputs": []
    },
    {
      "cell_type": "code",
      "metadata": {
        "id": "gpztqO_ya8c_"
      },
      "source": [
        "# Card_Category 분포\n",
        "%matplotlib inline \n",
        "\n",
        "plt.figure(figsize=(8,8))\n",
        "sns.countplot(data=data, x='Card_Category', hue='Gender')\n",
        "plt.title('Card Rating by Gender')\n",
        "plt.show()"
      ],
      "execution_count": null,
      "outputs": []
    },
    {
      "cell_type": "code",
      "metadata": {
        "id": "vut63E3ji0Vq"
      },
      "source": [
        "data['Card_Category'].value_counts()"
      ],
      "execution_count": null,
      "outputs": []
    },
    {
      "cell_type": "code",
      "metadata": {
        "id": "Hl27zQ1-nQDF"
      },
      "source": [
        "# Dependent_count 분포\n",
        "\n",
        "# 그래프 영역 나누기\n",
        "f = make_subplots(rows=2, cols=1) \n",
        "\n",
        "# boxplot과 histogram 그래프 x,y축 지정, boxmean=평균값표시\n",
        "t1 = go.Box(x=data['Dependent_count'], name='Box Plot for Dependent_count', boxmean=True)\n",
        "t2 = go.Histogram(x=data['Dependent_count'], name='Histogram Dependent_count')\n",
        "\n",
        "# plotly에서는 add_trace() 함수로 지정\n",
        "f.add_trace(t1, row=1, col=1) \n",
        "f.add_trace(t2, row=2, col=1)\n",
        "\n",
        "f.update_layout(height=600, width=1000, title_text = 'Dependent_count')"
      ],
      "execution_count": null,
      "outputs": []
    },
    {
      "cell_type": "code",
      "metadata": {
        "id": "nEoRWMqSkVqS"
      },
      "source": [
        "# Education_Level 분포\n",
        "ex.pie(data,names='Education_Level',title='Propotion Of Education Levels',hole=0.2)"
      ],
      "execution_count": null,
      "outputs": []
    },
    {
      "cell_type": "code",
      "metadata": {
        "id": "OrWbGhIWko3H"
      },
      "source": [
        "data['Education_Level'].value_counts()"
      ],
      "execution_count": null,
      "outputs": []
    },
    {
      "cell_type": "code",
      "metadata": {
        "id": "5WumejkanO5u"
      },
      "source": [
        "# Marital_Stattus 분포\n",
        "\n",
        "px.pie(data,names='Marital_Status',title='Propotion Of Different Marriage Statuses',hole=0.33)"
      ],
      "execution_count": null,
      "outputs": []
    },
    {
      "cell_type": "code",
      "metadata": {
        "id": "pUmWTBELvKzm"
      },
      "source": [
        "# Income_Category 분포\n",
        "\n",
        "px.pie(data,names='Income_Category',title='Income_Category',hole=0.33)"
      ],
      "execution_count": null,
      "outputs": []
    },
    {
      "cell_type": "code",
      "metadata": {
        "id": "FDtj4XjKy1FZ"
      },
      "source": [
        "# 'Atrittion_Flag' 타겟 변수 분포 \n",
        "px.pie(data,names='Attrition_Flag',title='churn vs not churn customers',hole=0.33)"
      ],
      "execution_count": null,
      "outputs": []
    },
    {
      "cell_type": "markdown",
      "metadata": {
        "id": "4oJC1UWZzBal"
      },
      "source": [
        "# Data Preprocessing"
      ]
    },
    {
      "cell_type": "code",
      "metadata": {
        "id": "RywQxgEGzLnL"
      },
      "source": [
        "data.head()"
      ],
      "execution_count": null,
      "outputs": []
    },
    {
      "cell_type": "code",
      "metadata": {
        "id": "BZyM7cldnniB"
      },
      "source": [
        "# 결측 값이 unknown 으로 되어 있어서 na값 확인되지 않음\n",
        "data.isna().sum()"
      ],
      "execution_count": null,
      "outputs": []
    },
    {
      "cell_type": "code",
      "metadata": {
        "id": "xj0yyTHwoJjd"
      },
      "source": [
        "# 필요없는 변수 제거\n",
        "data.drop(columns=['Naive_Bayes_Classifier_Attrition_Flag_Card_Category_Contacts_Count_12_mon_Dependent_count_Education_Level_Months_Inactive_12_mon_1',\n",
        "                   'Naive_Bayes_Classifier_Attrition_Flag_Card_Category_Contacts_Count_12_mon_Dependent_count_Education_Level_Months_Inactive_12_mon_2',\n",
        "                   'CLIENTNUM'], inplace=True)"
      ],
      "execution_count": null,
      "outputs": []
    },
    {
      "cell_type": "code",
      "metadata": {
        "id": "xG9X29wRozNs"
      },
      "source": [
        "data"
      ],
      "execution_count": null,
      "outputs": []
    },
    {
      "cell_type": "code",
      "metadata": {
        "id": "wmfLdv7iqPzJ"
      },
      "source": [
        "# Unknown 비율 20% 이하 제거\n",
        "\n",
        "data = data[data['Marital_Status'] != 'Unknown'] # 7.4%\n",
        "data = data[data['Income_Category'] != 'Unknown'] # 11%\n",
        "data = data[data['Education_Level'] != 'Unknown'] # 15%\n",
        "\n",
        "print(data['Marital_Status'].value_counts())\n",
        "print('\\n')\n",
        "print(data['Income_Category'].value_counts())\n",
        "print('\\n')\n",
        "print(data['Education_Level'].value_counts())"
      ],
      "execution_count": null,
      "outputs": []
    },
    {
      "cell_type": "markdown",
      "metadata": {
        "id": "mAxxdQ8T9bvR"
      },
      "source": [
        "### Encoding"
      ]
    },
    {
      "cell_type": "code",
      "metadata": {
        "id": "dHgwaFP_z9Ns"
      },
      "source": [
        "# encoding\n",
        "data['Attrition_Flag'] = data['Attrition_Flag'].replace({'Attrited Customer':1, 'Existing Customer':0})\n",
        "data['Gender'] = data['Gender'].replace({'F':1, 'M':0})"
      ],
      "execution_count": null,
      "outputs": []
    },
    {
      "cell_type": "code",
      "metadata": {
        "id": "T2ed-RvF99i0"
      },
      "source": [
        "# Oridinal Encoding\n",
        "\n",
        "Income_Category_map = {\n",
        "    'Less than $40K' : 0,\n",
        "    '$40K - $60K'    : 1,\n",
        "    '$60K - $80K'    : 2,\n",
        "    '$80K - $120K'   : 3,\n",
        "    '$120K +'        : 4\n",
        "}\n",
        "\n",
        "\n",
        "Card_Category_map = {\n",
        "    'Blue'     : 0,\n",
        "    'Silver'   : 1,\n",
        "    'Gold'     : 2,\n",
        "    'Platinum' : 3\n",
        "}\n",
        "\n",
        "Education_Level_map = {\n",
        "    'Uneducated'    : 0,\n",
        "    'High School'   : 1,\n",
        "    'College'       : 2,\n",
        "    'Graduate'      : 3,\n",
        "    'Post-Graduate' : 4,\n",
        "    'Doctorate'     : 5\n",
        "    }\n",
        "\n",
        "data.loc[:, 'Income_Category'] = data['Income_Category'].map(Income_Category_map)\n",
        "data.loc[:, 'Card_Category'] = data['Card_Category'].map(Card_Category_map)\n",
        "data.loc[:, 'Education_Level'] = data['Education_Level'].map(Education_Level_map)\n",
        "\n",
        "data.head()"
      ],
      "execution_count": null,
      "outputs": []
    },
    {
      "cell_type": "code",
      "metadata": {
        "id": "A3rQMxzhBRRz"
      },
      "source": [
        "# marital_statis onehot encoding\n",
        "data = pd.get_dummies(data)\n",
        "data.head()"
      ],
      "execution_count": null,
      "outputs": []
    },
    {
      "cell_type": "code",
      "metadata": {
        "id": "lhf5SXXjyY0-"
      },
      "source": [
        "# Customer_Age 70세 이상 데이터 제외(2명)\n",
        "data = data[data['Customer_Age'] < 70]\n",
        "data.sort_values(by='Customer_Age', ascending=False)"
      ],
      "execution_count": null,
      "outputs": []
    },
    {
      "cell_type": "code",
      "metadata": {
        "id": "wMIkNlcgKzYs"
      },
      "source": [
        "data.info()"
      ],
      "execution_count": null,
      "outputs": []
    },
    {
      "cell_type": "markdown",
      "metadata": {
        "id": "QNsfJ7KlK0x1"
      },
      "source": [
        "# Modeling"
      ]
    },
    {
      "cell_type": "code",
      "metadata": {
        "id": "PudoUVFcxRdg"
      },
      "source": [
        "# 타겟 설정 및 데이터 나누기\n",
        "target = 'Attrition_Flag'\n",
        "features = data.drop(columns= target).columns\n",
        "\n",
        "train, test = train_test_split(data, test_size = 0.2, random_state = 2021, stratify = data[target])\n",
        "train, val = train_test_split(train, test_size = 0.2, random_state = 2021, stratify = train[target])\n",
        "\n",
        "X_train = train[features]\n",
        "y_train = train[target]\n",
        "X_val = val[features]\n",
        "y_val = val[target]\n",
        "X_test = test[features]\n",
        "y_test = test[target]\n",
        "\n",
        "X_train.shape, y_train.shape, X_val.shape, y_val.shape, X_test.shape, y_test.shape"
      ],
      "execution_count": null,
      "outputs": []
    },
    {
      "cell_type": "code",
      "metadata": {
        "id": "CS4OHLgm4naP"
      },
      "source": [
        "# SMOTE로 데이터 불균형 해결\n",
        "sm = SMOTE(ratio='auto', kind='regular', random_state=2021)\n",
        "\n",
        "# train데이터를 넣어 복제함\n",
        "X_train_over,y_train_over = sm.fit_sample(X_train,y_train)\n",
        "\n",
        "print('SMOTE 적용 전 학습용 피처/레이블 데이터 세트: ', X_train.shape, y_train.shape)\n",
        "print('SMOTE 적용 후 학습용 피처/레이블 데이터 세트: ', X_train_over.shape, y_train_over.shape)\n",
        "print('SMOTE 적용 후 레이블 값 분포: \\n', pd.Series(y_train_over).value_counts())"
      ],
      "execution_count": null,
      "outputs": []
    },
    {
      "cell_type": "markdown",
      "metadata": {
        "id": "8mh_urrdmjSd"
      },
      "source": [
        "### Model 1. Random Forest"
      ]
    },
    {
      "cell_type": "code",
      "metadata": {
        "id": "Q_NnZtHfs6ht"
      },
      "source": [
        "pipe = Pipeline([\n",
        "                 ('rf', RandomForestClassifier(\n",
        "                                      random_state = 2021,\n",
        "                                      n_jobs = -1))])\n",
        "\n",
        "param = {  \n",
        "            'rf__n_estimators': randint(100,500), \n",
        "            'rf__max_depth' : randint(3,10),\n",
        "            'rf__min_samples_split' : randint(3,20),\n",
        "            'rf__min_samples_leaf': randint(3,20),\n",
        "            }\n",
        "\n",
        "\n",
        "clf = RandomizedSearchCV(\n",
        "    pipe, \n",
        "    param_distributions=param, \n",
        "    n_iter=50, \n",
        "    cv=3, \n",
        "    verbose=1,\n",
        "    n_jobs=-1\n",
        ")\n",
        "\n",
        "clf.fit(X_train_over, y_train_over)"
      ],
      "execution_count": null,
      "outputs": []
    },
    {
      "cell_type": "code",
      "metadata": {
        "id": "0VKH89mQupGa"
      },
      "source": [
        "model = clf.best_estimator_\n",
        "y_pred = model.predict(X_test)\n",
        "RF_opt_fpr, RF_opt_tpr, RF_opt_thresholds = metrics.roc_curve(y_test, y_pred)\n",
        "RF_opt_AUC = metrics.auc(RF_opt_fpr, RF_opt_tpr)\n",
        "\n",
        "fig = px.area(\n",
        "    x=RF_opt_fpr, y=RF_opt_tpr,\n",
        "    title='AUC of Random Forest :'' %0.4f'% RF_opt_AUC,\n",
        "    labels=dict(x='False Positive Rate', y='True Positive Rate'),\n",
        "    width=700, height=600\n",
        ")\n",
        "fig.add_shape(\n",
        "    type='line', line=dict(dash='dash'),\n",
        "    x0=0, x1=1, y0=0, y1=1\n",
        ")\n",
        "fig.update_yaxes(scaleanchor=\"x\", scaleratio=1)\n",
        "fig.update_xaxes(constrain='domain')\n",
        "fig.show()"
      ],
      "execution_count": null,
      "outputs": []
    },
    {
      "cell_type": "markdown",
      "metadata": {
        "id": "ZlEo1XGuwlAX"
      },
      "source": [
        "### Model.2 Adaboost"
      ]
    },
    {
      "cell_type": "code",
      "metadata": {
        "id": "Wrazb3xKwp5j"
      },
      "source": [
        "pipe2 = Pipeline([\n",
        "                 ('ada', AdaBoostClassifier(\n",
        "                                      random_state = 2021))])\n",
        "\n",
        "param2 = {  \n",
        "            'ada__n_estimators': randint(100,1000), \n",
        "            'ada__learning_rate' : uniform(0.01,1)\n",
        "            }\n",
        "\n",
        "\n",
        "clf2 = RandomizedSearchCV(\n",
        "    pipe2, \n",
        "    param_distributions=param2, \n",
        "    n_iter=50, \n",
        "    cv=3, \n",
        "    verbose=1,\n",
        "    n_jobs=-1\n",
        ")\n",
        "\n",
        "clf2.fit(X_train_over, y_train_over)"
      ],
      "execution_count": null,
      "outputs": []
    },
    {
      "cell_type": "code",
      "metadata": {
        "id": "p5T8zAy63Q0h"
      },
      "source": [
        "model2 = clf2.best_estimator_\n",
        "y_pred2 = model2.predict(X_test)\n",
        "RF_opt_fpr2, RF_opt_tpr2, RF_opt_thresholds2 = metrics.roc_curve(y_test, y_pred2)\n",
        "RF_opt_AUC2 = metrics.auc(RF_opt_fpr2, RF_opt_tpr2)\n",
        "\n",
        "fig = px.area(\n",
        "    x=RF_opt_fpr2, y=RF_opt_tpr2,\n",
        "    title='AUC of Adaboost:'' %0.4f'% RF_opt_AUC2,\n",
        "    labels=dict(x='False Positive Rate', y='True Positive Rate'),\n",
        "    width=700, height=600\n",
        ")\n",
        "fig.add_shape(\n",
        "    type='line', line=dict(dash='dash'),\n",
        "    x0=0, x1=1, y0=0, y1=1\n",
        ")\n",
        "fig.update_yaxes(scaleanchor=\"x\", scaleratio=1)\n",
        "fig.update_xaxes(constrain='domain')\n",
        "fig.show()"
      ],
      "execution_count": null,
      "outputs": []
    },
    {
      "cell_type": "markdown",
      "metadata": {
        "id": "rtnozImr34pT"
      },
      "source": [
        "## Model 3. LightGBM"
      ]
    },
    {
      "cell_type": "code",
      "metadata": {
        "id": "s8-HIChr4Ek_"
      },
      "source": [
        "pipe3 = Pipeline([\n",
        "                 ('lgbm', LGBMClassifier(\n",
        "                                      random_state = 2021,\n",
        "                                      objective = 'binary',\n",
        "                                      eval_metric = 'auc',\n",
        "                                      n_jobs = -1))])\n",
        "\n",
        "param3 = {   \n",
        "            'lgbm__n_estimators': randint(100,1000), \n",
        "            'lgbm__learning_rate': uniform(0.01,0.2),\n",
        "            'lgbm__max_depth' : randint(3,10),\n",
        "            'lgbm__boosting' : ['gbdt','rf','dart','goss'],\n",
        "            'lgbm__colsample_bytree': uniform(0.1,1),\n",
        "            'lgbm__scale_pos_weight' : uniform(0.1,1)}\n",
        "\n",
        "\n",
        "clf3 = RandomizedSearchCV(\n",
        "    pipe3, \n",
        "    param_distributions=param3, \n",
        "    n_iter=50, \n",
        "    cv=3, \n",
        "    verbose=1,\n",
        "    n_jobs=-1\n",
        ")\n",
        "\n",
        "clf3.fit(X_train_over, y_train_over)"
      ],
      "execution_count": null,
      "outputs": []
    },
    {
      "cell_type": "code",
      "metadata": {
        "id": "oqvWWX0N5m80"
      },
      "source": [
        "model3 = clf3.best_estimator_\n",
        "y_pred3 = model3.predict(X_test)\n",
        "RF_opt_fpr3, RF_opt_tpr3, RF_opt_thresholds3 = metrics.roc_curve(y_test, y_pred3)\n",
        "RF_opt_AUC3 = metrics.auc(RF_opt_fpr3, RF_opt_tpr3)\n",
        "\n",
        "fig = px.area(\n",
        "    x=RF_opt_fpr3, y=RF_opt_tpr3,\n",
        "    title='AUC of Adaboost:'' %0.4f'% RF_opt_AUC3,\n",
        "    labels=dict(x='False Positive Rate', y='True Positive Rate'),\n",
        "    width=700, height=600\n",
        ")\n",
        "fig.add_shape(\n",
        "    type='line', line=dict(dash='dash'),\n",
        "    x0=0, x1=1, y0=0, y1=1\n",
        ")\n",
        "fig.update_yaxes(scaleanchor=\"x\", scaleratio=1)\n",
        "fig.update_xaxes(constrain='domain')\n",
        "fig.show()"
      ],
      "execution_count": null,
      "outputs": []
    }
  ]
}