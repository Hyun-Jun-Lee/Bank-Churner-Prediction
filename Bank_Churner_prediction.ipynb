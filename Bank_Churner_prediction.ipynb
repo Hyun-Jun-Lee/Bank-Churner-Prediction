{
  "nbformat": 4,
  "nbformat_minor": 0,
  "metadata": {
    "colab": {
      "name": "Bank Churner prediction.ipynb",
      "private_outputs": true,
      "provenance": [],
      "collapsed_sections": [],
      "include_colab_link": true
    },
    "kernelspec": {
      "name": "python3",
      "display_name": "Python 3"
    },
    "language_info": {
      "name": "python"
    }
  },
  "cells": [
    {
      "cell_type": "markdown",
      "metadata": {
        "id": "view-in-github",
        "colab_type": "text"
      },
      "source": [
        "<a href=\"https://colab.research.google.com/github/Hyun-Jun-Lee/Bank-Churner-Prediction/blob/master/Bank_Churner_prediction.ipynb\" target=\"_parent\"><img src=\"https://colab.research.google.com/assets/colab-badge.svg\" alt=\"Open In Colab\"/></a>"
      ]
    },
    {
      "cell_type": "markdown",
      "metadata": {
        "id": "7zCQW_r3-uXL"
      },
      "source": [
        "# 1. 데이터 불러오기 및 EDA\n"
      ]
    },
    {
      "cell_type": "code",
      "metadata": {
        "id": "qbglN9RhW6kz"
      },
      "source": [
        "from google.colab import drive \n",
        "\n",
        "drive.mount('/content/gdrive/')"
      ],
      "execution_count": null,
      "outputs": []
    },
    {
      "cell_type": "code",
      "metadata": {
        "id": "qAnCnZYPC6VO"
      },
      "source": [
        "ls"
      ],
      "execution_count": null,
      "outputs": []
    },
    {
      "cell_type": "markdown",
      "metadata": {
        "id": "l1UBsAV0--Jo"
      },
      "source": [
        "라이브러리 모음"
      ]
    },
    {
      "cell_type": "code",
      "metadata": {
        "id": "e8lrmq7jBQ-l"
      },
      "source": [
        "\n",
        "import sys\n",
        "\n",
        "if 'google.colab' in sys.modules:\n",
        "    # Install packages in Colab\n",
        "    !pip install -U pandas-profiling"
      ],
      "execution_count": null,
      "outputs": []
    },
    {
      "cell_type": "code",
      "metadata": {
        "id": "v_NDHG-U-nH8"
      },
      "source": [
        "import pandas as pd\n",
        "import numpy as np\n",
        "import pandas_profiling\n",
        "import matplotlib.pyplot as plt\n",
        "import seaborn as sns\n",
        "import plotly.express as px\n",
        "import plotly.graph_objs as go\n",
        "import plotly.figure_factory as ff\n",
        "from plotly.subplots import make_subplots\n",
        "import plotly.offline as pyo"
      ],
      "execution_count": null,
      "outputs": []
    },
    {
      "cell_type": "code",
      "metadata": {
        "id": "NKoeAhOj_GB5"
      },
      "source": [
        "data = pd.read_csv('/content/gdrive/MyDrive/BankChurners.csv')\n",
        "data.head()"
      ],
      "execution_count": null,
      "outputs": []
    },
    {
      "cell_type": "code",
      "metadata": {
        "id": "fO8EBZKjAtCW"
      },
      "source": [
        "pr = data.profile_report()\n",
        "pr"
      ],
      "execution_count": null,
      "outputs": []
    },
    {
      "cell_type": "markdown",
      "metadata": {
        "id": "-9Q69yjrAus4"
      },
      "source": [
        "### 변수 설명\n",
        "\n",
        "- CLIENTNUM : 고객 번호. 계정을 보유한 고객의 고유 식별자\n",
        "- **Attrition_Flag(Target) : 고객 이탈 여부, 1 - Churner/ 0 - non Churner**\n",
        "- Customer_Age : 고객의 나이\n",
        "- Gender : 성별, M=Male, F=Female\n",
        "- Dependent_count : 부양가족수\n",
        "- Education_Level : 고객의 학력\n",
        "- Marital_Status : Married, Single, Divorced, Unknown\n",
        "- Income_Category : 연간 소득 (< 40K, 40K - 60K, 60K - 80K, 80K-120K, >)\n",
        "- Card_Category : 카드 등급 (Blue, Silver, Gold, Platinum)\n",
        "- Months_on_book : 은행과 거래 기간\n",
        "- Total_Relationship_Count : 고객이 보유한 총 상품 수\n",
        "- Months_Inactive_12_mon : 최근 12개월 동안 비활성 개월 수\n",
        "- Contacts_Count_12_mon : 최근 12개월 동안 연락한 횟수\n",
        "- Credit_Limit : 신용 한도\n",
        "- Total_Revolving_Bal : 총 리볼빙(일부결제금액이월약정) 잔액\n",
        "- Avg_Open_To_Buy : Open to Buy Credit Line (Average of last 12 months)\n",
        "- Total_Amt_Chng_Q4_Q1 : 거래 금액의 변화 (1분기 대비 4분기)\n",
        "- Total_Trans_Amt : 최근 12개월 총 거래 금액\n",
        "- Total_Trans_Ct : 최근 12개월 총 거래 횟 수\n",
        "- Total_Ct_Chng_Q4_Q1 : Change in Transaction Count (Q4 over Q1)\n",
        "- Avg_Utilization_Ratio : 평균 카드 사용률"
      ]
    },
    {
      "cell_type": "markdown",
      "metadata": {
        "id": "UkjNz9TDEb_6"
      },
      "source": [
        "### EDA"
      ]
    },
    {
      "cell_type": "code",
      "metadata": {
        "id": "ye_cVHAYRVhm"
      },
      "source": [
        "# Customer_Age 분포\n",
        "\n",
        "# 그래프 영역 나누기\n",
        "f = make_subplots(rows=2, cols=1) \n",
        "\n",
        "# boxplot과 histogram 그래프 x,y축 지정, boxmean=평균값표시\n",
        "t1 = go.Box(x=data['Customer_Age'], name='Box Plot for Customer_age', boxmean=True)\n",
        "t2 = go.Histogram(x=data['Customer_Age'], name='Histogram Customer_age')\n",
        "\n",
        "# plotly에서는 add_trace() 함수로 지정\n",
        "f.add_trace(t1, row=1, col=1) \n",
        "f.add_trace(t2, row=2, col=1)\n",
        "\n",
        "f.update_layout(height=600, width=1000, title_text = 'Customer_Age')"
      ],
      "execution_count": null,
      "outputs": []
    },
    {
      "cell_type": "markdown",
      "metadata": {
        "id": "sEykoBRwYasr"
      },
      "source": [
        "Customer_Age는 정규분포 <br>\n",
        "아직 경제활동을 하고있지 않는 10대 이하와 70세 이상의 초고령층의 데이터가 필요할까?"
      ]
    },
    {
      "cell_type": "code",
      "metadata": {
        "id": "TaS9tuHUYwWp"
      },
      "source": [
        "data.sort_values(by='Customer_Age', ascending=False)"
      ],
      "execution_count": null,
      "outputs": []
    },
    {
      "cell_type": "code",
      "metadata": {
        "id": "gpztqO_ya8c_"
      },
      "source": [
        "# Card_Category 분포\n",
        "%matplotlib inline \n",
        "\n",
        "plt.figure(figsize=(8,8))\n",
        "sns.countplot(data=data, x='Card_Category', hue='Gender')\n",
        "plt.title('Card Rating by Gender')\n",
        "plt.show()"
      ],
      "execution_count": null,
      "outputs": []
    },
    {
      "cell_type": "code",
      "metadata": {
        "id": "vut63E3ji0Vq"
      },
      "source": [
        "data['Card_Category'].value_counts()"
      ],
      "execution_count": null,
      "outputs": []
    },
    {
      "cell_type": "code",
      "metadata": {
        "id": "Hl27zQ1-nQDF"
      },
      "source": [
        "# Dependent_count 분포\n",
        "\n",
        "# 그래프 영역 나누기\n",
        "f = make_subplots(rows=2, cols=1) \n",
        "\n",
        "# boxplot과 histogram 그래프 x,y축 지정, boxmean=평균값표시\n",
        "t1 = go.Box(x=data['Dependent_count'], name='Box Plot for Dependent_count', boxmean=True)\n",
        "t2 = go.Histogram(x=data['Dependent_count'], name='Histogram Dependent_count')\n",
        "\n",
        "# plotly에서는 add_trace() 함수로 지정\n",
        "f.add_trace(t1, row=1, col=1) \n",
        "f.add_trace(t2, row=2, col=1)\n",
        "\n",
        "f.update_layout(height=600, width=1000, title_text = 'Dependent_count')"
      ],
      "execution_count": null,
      "outputs": []
    },
    {
      "cell_type": "code",
      "metadata": {
        "id": "nEoRWMqSkVqS"
      },
      "source": [
        "# Education_Level 분포\n",
        "ex.pie(data,names='Education_Level',title='Propotion Of Education Levels',hole=0.2)"
      ],
      "execution_count": null,
      "outputs": []
    },
    {
      "cell_type": "code",
      "metadata": {
        "id": "OrWbGhIWko3H"
      },
      "source": [
        "data['Education_Level'].value_counts()"
      ],
      "execution_count": null,
      "outputs": []
    },
    {
      "cell_type": "code",
      "metadata": {
        "id": "5WumejkanO5u"
      },
      "source": [
        ""
      ],
      "execution_count": null,
      "outputs": []
    }
  ]
}