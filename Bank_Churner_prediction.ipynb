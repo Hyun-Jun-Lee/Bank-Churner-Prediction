{
  "nbformat": 4,
  "nbformat_minor": 0,
  "metadata": {
    "colab": {
      "name": "Bank Churner prediction.ipynb",
      "private_outputs": true,
      "provenance": [],
      "collapsed_sections": []
    },
    "kernelspec": {
      "name": "python3",
      "display_name": "Python 3"
    },
    "language_info": {
      "name": "python"
    }
  },
  "cells": [
    {
      "cell_type": "markdown",
      "metadata": {
        "id": "7zCQW_r3-uXL"
      },
      "source": [
        "# 1. 데이터 불러오기 및 탐색\n"
      ]
    },
    {
      "cell_type": "code",
      "metadata": {
        "id": "qbglN9RhW6kz"
      },
      "source": [
        "from google.colab import drive \n",
        "\n",
        "drive.mount('/content/gdrive/')"
      ],
      "execution_count": null,
      "outputs": []
    },
    {
      "cell_type": "code",
      "metadata": {
        "id": "qAnCnZYPC6VO"
      },
      "source": [
        "ls"
      ],
      "execution_count": null,
      "outputs": []
    },
    {
      "cell_type": "markdown",
      "metadata": {
        "id": "l1UBsAV0--Jo"
      },
      "source": [
        "라이브러리 모음"
      ]
    },
    {
      "cell_type": "code",
      "metadata": {
        "id": "e8lrmq7jBQ-l"
      },
      "source": [
        "\n",
        "import sys\n",
        "\n",
        "if 'google.colab' in sys.modules:\n",
        "    # Install packages in Colab\n",
        "    !pip install pandas-profiling"
      ],
      "execution_count": null,
      "outputs": []
    },
    {
      "cell_type": "code",
      "metadata": {
        "id": "v_NDHG-U-nH8"
      },
      "source": [
        "import pandas as pd\n",
        "import numpy as np\n",
        "import pandas_profiling"
      ],
      "execution_count": null,
      "outputs": []
    },
    {
      "cell_type": "code",
      "metadata": {
        "id": "NKoeAhOj_GB5"
      },
      "source": [
        "data = pd.read_csv('/content/gdrive/MyDrive/BankChurners.csv')\n",
        "data.head()"
      ],
      "execution_count": null,
      "outputs": []
    },
    {
      "cell_type": "code",
      "metadata": {
        "id": "fO8EBZKjAtCW"
      },
      "source": [
        "pr = data.profile_report()\n",
        "pr"
      ],
      "execution_count": null,
      "outputs": []
    },
    {
      "cell_type": "markdown",
      "metadata": {
        "id": "-9Q69yjrAus4"
      },
      "source": [
        "### 변수 설명\n",
        "\n",
        "- CLIENTNUM : 고객 번호. 계정을 보유한 고객의 고유 식별자\n",
        "- **Attrition_Flag(Target) : 고객 이탈 여부, 1 - Churner/ 0 - non Churner**\n",
        "- Customer_Age : 고객의 나이\n",
        "- Gender : 성별, M=Male, F=Female\n",
        "- Dependent_count : 부양가족수\n",
        "- Education_Level : 고객의 학력\n",
        "- Marital_Status : Married, Single, Divorced, Unknown\n",
        "- Income_Category : 연간 소득 (< 40K, 40K - 60K, 60K - 80K, 80K-120K, >)\n",
        "- Card_Category : 카드 등급 (Blue, Silver, Gold, Platinum)\n",
        "- Months_on_book : 은행과 거래 기간\n",
        "- Total_Relationship_Count : 고객이 보유한 총 상품 수\n",
        "- Months_Inactive_12_mon : 최근 12개월 동안 비활성 개월 수\n",
        "- Contacts_Count_12_mon : 최근 12개월 동안 연락한 횟수\n",
        "- Credit_Limit : 신용 한도\n",
        "- Total_Revolving_Bal : 총 리볼빙(일부결제금액이월약정) 잔액\n",
        "- Avg_Open_To_Buy : Open to Buy Credit Line (Average of last 12 months)\n",
        "- Total_Amt_Chng_Q4_Q1 : 거래 금액의 변화 (1분기 대비 4분기)\n",
        "- Total_Trans_Amt : 최근 12개월 총 거래 금액\n",
        "- Total_Trans_Ct : 최근 12개월 총 거래 횟 수\n",
        "- Total_Ct_Chng_Q4_Q1 : Change in Transaction Count (Q4 over Q1)\n",
        "- Avg_Utilization_Ratio : 평균 카드 사용률"
      ]
    },
    {
      "cell_type": "code",
      "metadata": {
        "id": "UkjNz9TDEb_6"
      },
      "source": [
        ""
      ],
      "execution_count": null,
      "outputs": []
    }
  ]
}