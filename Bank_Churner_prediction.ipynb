{
  "nbformat": 4,
  "nbformat_minor": 0,
  "metadata": {
    "colab": {
      "name": "Bank Churner prediction.ipynb",
      "private_outputs": true,
      "provenance": [],
      "collapsed_sections": [],
      "include_colab_link": true
    },
    "kernelspec": {
      "name": "python3",
      "display_name": "Python 3"
    },
    "language_info": {
      "name": "python"
    }
  },
  "cells": [
    {
      "cell_type": "markdown",
      "metadata": {
        "id": "view-in-github",
        "colab_type": "text"
      },
      "source": [
        "<a href=\"https://colab.research.google.com/github/Hyun-Jun-Lee/Bank-Churner-Prediction/blob/master/Bank_Churner_prediction.ipynb\" target=\"_parent\"><img src=\"https://colab.research.google.com/assets/colab-badge.svg\" alt=\"Open In Colab\"/></a>"
      ]
    },
    {
      "cell_type": "markdown",
      "metadata": {
        "id": "7zCQW_r3-uXL"
      },
      "source": [
        "# 1. 데이터 불러오기 및 EDA\n"
      ]
    },
    {
      "cell_type": "code",
      "metadata": {
        "id": "qbglN9RhW6kz"
      },
      "source": [
        "from google.colab import drive \n",
        "\n",
        "drive.mount('/content/gdrive/')"
      ],
      "execution_count": null,
      "outputs": []
    },
    {
      "cell_type": "code",
      "metadata": {
        "id": "qAnCnZYPC6VO"
      },
      "source": [
        "ls"
      ],
      "execution_count": null,
      "outputs": []
    },
    {
      "cell_type": "markdown",
      "metadata": {
        "id": "l1UBsAV0--Jo"
      },
      "source": [
        "라이브러리 모음"
      ]
    },
    {
      "cell_type": "code",
      "metadata": {
        "id": "e8lrmq7jBQ-l"
      },
      "source": [
        "\n",
        "import sys\n",
        "\n",
        "if 'google.colab' in sys.modules:\n",
        "    # Install packages in Colab\n",
        "    !pip install -U pandas-profiling"
      ],
      "execution_count": null,
      "outputs": []
    },
    {
      "cell_type": "code",
      "metadata": {
        "id": "v_NDHG-U-nH8"
      },
      "source": [
        "import pandas as pd\n",
        "import numpy as np\n",
        "import pandas_profiling\n",
        "import matplotlib.pyplot as plt\n",
        "import seaborn as sns\n",
        "import plotly.express as px\n",
        "import plotly.graph_objs as go\n",
        "import plotly.figure_factory as ff\n",
        "from plotly.subplots import make_subplots\n",
        "import plotly.offline as pyo"
      ],
      "execution_count": null,
      "outputs": []
    },
    {
      "cell_type": "code",
      "metadata": {
        "id": "NKoeAhOj_GB5"
      },
      "source": [
        "data = pd.read_csv('/content/gdrive/MyDrive/BankChurners.csv')\n",
        "data.head()"
      ],
      "execution_count": null,
      "outputs": []
    },
    {
      "cell_type": "code",
      "metadata": {
        "id": "fO8EBZKjAtCW"
      },
      "source": [
        "pr = data.profile_report()\n",
        "pr"
      ],
      "execution_count": null,
      "outputs": []
    },
    {
      "cell_type": "markdown",
      "metadata": {
        "id": "-9Q69yjrAus4"
      },
      "source": [
        "### 변수 설명\n",
        "\n",
        "- CLIENTNUM : 고객 번호. 계정을 보유한 고객의 고유 식별자\n",
        "- **Attrition_Flag(Target) : 고객 이탈 여부, 1 - Churner/ 0 - non Churner**\n",
        "- Customer_Age : 고객의 나이\n",
        "- Gender : 성별, M=Male, F=Female\n",
        "- Dependent_count : 부양가족수\n",
        "- Education_Level : 고객의 학력\n",
        "- Marital_Status : Married, Single, Divorced, Unknown\n",
        "- Income_Category : 연간 소득 (< 40K, 40K - 60K, 60K - 80K, 80K-120K, >)\n",
        "- Card_Category : 카드 등급 (Blue, Silver, Gold, Platinum)\n",
        "- Months_on_book : 은행과 거래 기간\n",
        "- Total_Relationship_Count : 고객이 보유한 총 상품 수\n",
        "- Months_Inactive_12_mon : 최근 12개월 동안 비활성 개월 수\n",
        "- Contacts_Count_12_mon : 최근 12개월 동안 연락한 횟수\n",
        "- Credit_Limit : 신용 한도\n",
        "- Total_Revolving_Bal : 총 리볼빙(일부결제금액이월약정) 잔액\n",
        "- Avg_Open_To_Buy : Open to Buy Credit Line (Average of last 12 months)\n",
        "- Total_Amt_Chng_Q4_Q1 : 거래 금액의 변화 (1분기 대비 4분기)\n",
        "- Total_Trans_Amt : 최근 12개월 총 거래 금액\n",
        "- Total_Trans_Ct : 최근 12개월 총 거래 횟 수\n",
        "- Total_Ct_Chng_Q4_Q1 : Change in Transaction Count (Q4 over Q1)\n",
        "- Avg_Utilization_Ratio : 평균 카드 사용률"
      ]
    },
    {
      "cell_type": "markdown",
      "metadata": {
        "id": "UkjNz9TDEb_6"
      },
      "source": [
        "### EDA"
      ]
    },
    {
      "cell_type": "code",
      "metadata": {
        "id": "ye_cVHAYRVhm"
      },
      "source": [
        "# Customer_Age 분포\n",
        "\n",
        "# 그래프 영역 나누기\n",
        "f = make_subplots(rows=2, cols=1) \n",
        "\n",
        "# boxplot과 histogram 그래프 x,y축 지정, boxmean=평균값표시\n",
        "t1 = go.Box(x=data['Customer_Age'], name='Box Plot for Customer_age', boxmean=True)\n",
        "t2 = go.Histogram(x=data['Customer_Age'], name='Histogram Customer_age')\n",
        "\n",
        "# plotly에서는 add_trace() 함수로 지정\n",
        "f.add_trace(t1, row=1, col=1) \n",
        "f.add_trace(t2, row=2, col=1)\n",
        "\n",
        "f.update_layout(height=600, width=1000, title_text = 'Customer_Age')"
      ],
      "execution_count": null,
      "outputs": []
    },
    {
      "cell_type": "markdown",
      "metadata": {
        "id": "sEykoBRwYasr"
      },
      "source": [
        "Customer_Age는 정규분포 <br>\n",
        "아직 경제활동을 하고있지 않는 10대 이하와 70세 이상의 초고령층의 데이터가 필요할까?"
      ]
    },
    {
      "cell_type": "code",
      "metadata": {
        "id": "TaS9tuHUYwWp"
      },
      "source": [
        "data.sort_values(by='Customer_Age', ascending=False)"
      ],
      "execution_count": null,
      "outputs": []
    },
    {
      "cell_type": "code",
      "metadata": {
        "id": "gpztqO_ya8c_"
      },
      "source": [
        "# Card_Category 분포\n",
        "%matplotlib inline \n",
        "\n",
        "plt.figure(figsize=(8,8))\n",
        "sns.countplot(data=data, x='Card_Category', hue='Gender')\n",
        "plt.title('Card Rating by Gender')\n",
        "plt.show()"
      ],
      "execution_count": null,
      "outputs": []
    },
    {
      "cell_type": "code",
      "metadata": {
        "id": "vut63E3ji0Vq"
      },
      "source": [
        "data['Card_Category'].value_counts()"
      ],
      "execution_count": null,
      "outputs": []
    },
    {
      "cell_type": "code",
      "metadata": {
        "id": "Hl27zQ1-nQDF"
      },
      "source": [
        "# Dependent_count 분포\n",
        "\n",
        "# 그래프 영역 나누기\n",
        "f = make_subplots(rows=2, cols=1) \n",
        "\n",
        "# boxplot과 histogram 그래프 x,y축 지정, boxmean=평균값표시\n",
        "t1 = go.Box(x=data['Dependent_count'], name='Box Plot for Dependent_count', boxmean=True)\n",
        "t2 = go.Histogram(x=data['Dependent_count'], name='Histogram Dependent_count')\n",
        "\n",
        "# plotly에서는 add_trace() 함수로 지정\n",
        "f.add_trace(t1, row=1, col=1) \n",
        "f.add_trace(t2, row=2, col=1)\n",
        "\n",
        "f.update_layout(height=600, width=1000, title_text = 'Dependent_count')"
      ],
      "execution_count": null,
      "outputs": []
    },
    {
      "cell_type": "code",
      "metadata": {
        "id": "nEoRWMqSkVqS"
      },
      "source": [
        "# Education_Level 분포\n",
        "ex.pie(data,names='Education_Level',title='Propotion Of Education Levels',hole=0.2)"
      ],
      "execution_count": null,
      "outputs": []
    },
    {
      "cell_type": "code",
      "metadata": {
        "id": "OrWbGhIWko3H"
      },
      "source": [
        "data['Education_Level'].value_counts()"
      ],
      "execution_count": null,
      "outputs": []
    },
    {
      "cell_type": "code",
      "metadata": {
        "id": "5WumejkanO5u"
      },
      "source": [
        "# Marital_Stattus 분포\n",
        "\n",
        "px.pie(data,names='Marital_Status',title='Propotion Of Different Marriage Statuses',hole=0.33)"
      ],
      "execution_count": null,
      "outputs": []
    },
    {
      "cell_type": "code",
      "metadata": {
        "id": "pUmWTBELvKzm"
      },
      "source": [
        "# Income_Category 분포\n",
        "\n",
        "px.pie(data,names='Income_Category',title='Income_Category',hole=0.33)"
      ],
      "execution_count": null,
      "outputs": []
    },
    {
      "cell_type": "code",
      "metadata": {
        "id": "FDtj4XjKy1FZ"
      },
      "source": [
        "# 'Atrittion_Flag' 타겟 변수 분포 \n",
        "px.pie(data,names='Attrition_Flag',title='churn vs not churn customers',hole=0.33)"
      ],
      "execution_count": null,
      "outputs": []
    },
    {
      "cell_type": "markdown",
      "metadata": {
        "id": "4oJC1UWZzBal"
      },
      "source": [
        "# Data Preprocessing"
      ]
    },
    {
      "cell_type": "code",
      "metadata": {
        "id": "RywQxgEGzLnL"
      },
      "source": [
        "data.head()"
      ],
      "execution_count": null,
      "outputs": []
    },
    {
      "cell_type": "code",
      "metadata": {
        "id": "BZyM7cldnniB"
      },
      "source": [
        "# 결측 값이 unknown 으로 되어 있어서 na값 확인되지 않음\n",
        "data.isna().sum()"
      ],
      "execution_count": null,
      "outputs": []
    },
    {
      "cell_type": "code",
      "metadata": {
        "id": "xj0yyTHwoJjd"
      },
      "source": [
        "# 필요없는 변수 제거\n",
        "data.drop(columns=['Naive_Bayes_Classifier_Attrition_Flag_Card_Category_Contacts_Count_12_mon_Dependent_count_Education_Level_Months_Inactive_12_mon_1',\n",
        "                   'Naive_Bayes_Classifier_Attrition_Flag_Card_Category_Contacts_Count_12_mon_Dependent_count_Education_Level_Months_Inactive_12_mon_2',\n",
        "                   'CLIENTNUM'], inplace=True)"
      ],
      "execution_count": null,
      "outputs": []
    },
    {
      "cell_type": "code",
      "metadata": {
        "id": "xG9X29wRozNs"
      },
      "source": [
        "data"
      ],
      "execution_count": null,
      "outputs": []
    },
    {
      "cell_type": "code",
      "metadata": {
        "id": "wmfLdv7iqPzJ"
      },
      "source": [
        "# Unknown 비율 20% 이하 제거\n",
        "\n",
        "data = data[data['Marital_Status'] != 'Unknown'] # 7.4%\n",
        "data = data[data['Income_Category'] != 'Unknown'] # 11%\n",
        "data = data[data['Education_Level'] != 'Unknown'] # 15%\n",
        "\n",
        "print(data['Marital_Status'].value_counts())\n",
        "print('\\n')\n",
        "print(data['Income_Category'].value_counts())\n",
        "print('\\n')\n",
        "print(data['Education_Level'].value_counts())"
      ],
      "execution_count": null,
      "outputs": []
    },
    {
      "cell_type": "markdown",
      "metadata": {
        "id": "mAxxdQ8T9bvR"
      },
      "source": [
        "### Encoding"
      ]
    },
    {
      "cell_type": "code",
      "metadata": {
        "id": "dHgwaFP_z9Ns"
      },
      "source": [
        "# one-hot encoding\n",
        "data['Attrition_Flag'] = data['Attrition_Flag'].replace({'Attrited Customer':1, 'Existing Customer':0})\n",
        "data['Gender'] = data['Gender'].replace({'F':1, 'M':0})\n",
        "data = pd.get_dummies(data)"
      ],
      "execution_count": null,
      "outputs": []
    },
    {
      "cell_type": "code",
      "metadata": {
        "id": "T2ed-RvF99i0"
      },
      "source": [
        "# Oridinal Encoding\n",
        "\n",
        "Income_Category_map = {\n",
        "    'Less than $40K' : 0,\n",
        "    '$40K - $60K'    : 1,\n",
        "    '$60K - $80K'    : 2,\n",
        "    '$80K - $120K'   : 3,\n",
        "    '$120K +'        : 4\n",
        "}\n",
        "\n",
        "\n",
        "Card_Category_map = {\n",
        "    'Blue'     : 0,\n",
        "    'Silver'   : 1,\n",
        "    'Gold'     : 2,\n",
        "    'Platinum' : 3\n",
        "}\n",
        "\n",
        "Education_Level_map = {\n",
        "    'Uneducated'    : 0,\n",
        "    'High School'   : 1,\n",
        "    'College'       : 2,\n",
        "    'Graduate'      : 3,\n",
        "    'Post-Graduate' : 4,\n",
        "    'Doctorate'     : 5\n",
        "    }\n",
        "\n",
        "data.loc[:, 'Income_Category'] = data['Income_Category'].map(Income_Category_map)\n",
        "data.loc[:, 'Card_Category'] = data['Card_Category'].map(Card_Category_map)\n",
        "data.loc[:, 'Education_Level'] = data['Education_Level'].map(Education_Level_map)\n"
      ],
      "execution_count": null,
      "outputs": []
    },
    {
      "cell_type": "code",
      "metadata": {
        "id": "A3rQMxzhBRRz"
      },
      "source": [
        "data.head()"
      ],
      "execution_count": null,
      "outputs": []
    }
  ]
}